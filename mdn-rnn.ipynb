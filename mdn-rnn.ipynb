{
 "cells": [
  {
   "cell_type": "code",
   "execution_count": 1,
   "metadata": {},
   "outputs": [],
   "source": [
    "import torch\n",
    "import torch.nn as nn\n",
    "import torch.nn.functional as F\n",
    "from torch.nn.utils import clip_grad_norm_\n",
    "from torch.autograd import Variable\n",
    "from torchsummary import summary\n",
    "\n",
    "from torchvision.utils import save_image\n",
    "from IPython.core.display import Image, display\n",
    "\n",
    "import numpy as np\n",
    "import matplotlib.pyplot as plt\n",
    "from vae import VAE\n",
    "\n",
    "%load_ext autoreload\n",
    "%autoreload 2"
   ]
  },
  {
   "cell_type": "code",
   "execution_count": 2,
   "metadata": {},
   "outputs": [
    {
     "data": {
      "text/plain": [
       "device(type='cuda')"
      ]
     },
     "execution_count": 2,
     "metadata": {},
     "output_type": "execute_result"
    }
   ],
   "source": [
    "# Device configuration\n",
    "device = torch.device('cuda' if torch.cuda.is_available() else 'cpu')\n",
    "device"
   ]
  },
  {
   "cell_type": "code",
   "execution_count": 13,
   "metadata": {},
   "outputs": [],
   "source": [
    "bsz = 200\n",
    "epochs = 500\n",
    "seqlen = 16\n",
    "\n",
    "z_size = 32\n",
    "n_hidden = 256\n",
    "n_gaussians = 5"
   ]
  },
  {
   "cell_type": "code",
   "execution_count": 4,
   "metadata": {},
   "outputs": [
    {
     "data": {
      "text/plain": [
       "torch.Size([200, 150, 32])"
      ]
     },
     "execution_count": 4,
     "metadata": {},
     "output_type": "execute_result"
    }
   ],
   "source": [
    "z = torch.from_numpy(np.load('z.npy'))\n",
    "z = z.view(bsz, -1, z.size(1)).to(device)\n",
    "z.shape"
   ]
  },
  {
   "cell_type": "code",
   "execution_count": 5,
   "metadata": {},
   "outputs": [],
   "source": [
    "# Truncated backpropagation\n",
    "def detach(states):\n",
    "    return [state.detach() for state in states] "
   ]
  },
  {
   "cell_type": "code",
   "execution_count": 6,
   "metadata": {},
   "outputs": [],
   "source": [
    "class MDNRNN(nn.Module):\n",
    "    def __init__(self, z_size, n_hidden=256, n_gaussians=5, n_layers=1):\n",
    "        super(MDNRNN, self).__init__()\n",
    "\n",
    "        self.z_size = z_size\n",
    "        self.n_hidden = n_hidden\n",
    "        self.n_gaussians = n_gaussians\n",
    "        self.n_layers = n_layers\n",
    "        \n",
    "        self.lstm = nn.LSTM(z_size, n_hidden, n_layers, batch_first=True)\n",
    "        self.fc1 = nn.Linear(n_hidden, n_gaussians*z_size)\n",
    "        self.fc2 = nn.Linear(n_hidden, n_gaussians*z_size)\n",
    "        self.fc3 = nn.Linear(n_hidden, n_gaussians*z_size)\n",
    "        \n",
    "    def get_mixture_coef(self, y):\n",
    "        rollout_length = y.size(1)\n",
    "        pi, mu, sigma = self.fc1(y), self.fc2(y), self.fc3(y)\n",
    "        \n",
    "        pi = pi.view(-1, rollout_length, self.n_gaussians, self.z_size)\n",
    "        mu = mu.view(-1, rollout_length, self.n_gaussians, self.z_size)\n",
    "        sigma = sigma.view(-1, rollout_length, self.n_gaussians, self.z_size)\n",
    "        \n",
    "        pi = F.softmax(pi, 2)\n",
    "        sigma = torch.exp(sigma)\n",
    "        return pi, mu, sigma\n",
    "        \n",
    "        \n",
    "    def forward(self, x, h):\n",
    "        # Forward propagate LSTM\n",
    "        y, (h, c) = self.lstm(x, h)\n",
    "        pi, mu, sigma = self.get_mixture_coef(y)\n",
    "        return (pi, mu, sigma), (h, c)\n",
    "    \n",
    "    def init_hidden(self, bsz):\n",
    "        return (torch.zeros(self.n_layers, bsz, self.n_hidden).to(device),\n",
    "                torch.zeros(self.n_layers, bsz, self.n_hidden).to(device))"
   ]
  },
  {
   "cell_type": "code",
   "execution_count": 17,
   "metadata": {},
   "outputs": [],
   "source": [
    "model = MDNRNN(z_size, n_hidden).to(device)\n",
    "# model.load_state_dict(torch.load('rnn.torch', map_location='cpu'))"
   ]
  },
  {
   "cell_type": "code",
   "execution_count": 8,
   "metadata": {},
   "outputs": [],
   "source": [
    "# inputs = z[:bsz, :seqlen, :]\n",
    "# (pi, mu, sigma), (h, c) = model(inputs, model.init_hidden(bsz))\n",
    "# inputs.shape, pi.shape"
   ]
  },
  {
   "cell_type": "code",
   "execution_count": 9,
   "metadata": {},
   "outputs": [],
   "source": [
    "def mdn_loss_fn(y, pi, mu, sigma):\n",
    "    m = torch.distributions.Normal(loc=mu, scale=sigma)\n",
    "    loss = torch.exp(m.log_prob(y))\n",
    "    loss = torch.sum(loss * pi, dim=2)\n",
    "    loss = -torch.log(loss)\n",
    "    return loss.mean()"
   ]
  },
  {
   "cell_type": "code",
   "execution_count": 10,
   "metadata": {},
   "outputs": [],
   "source": [
    "def criterion(y, pi, mu, sigma):\n",
    "    y = y.unsqueeze(2)\n",
    "    return mdn_loss_fn(y, pi, mu, sigma)"
   ]
  },
  {
   "cell_type": "code",
   "execution_count": 19,
   "metadata": {},
   "outputs": [],
   "source": [
    "optimizer = torch.optim.Adam(model.parameters())"
   ]
  },
  {
   "cell_type": "code",
   "execution_count": 46,
   "metadata": {},
   "outputs": [
    {
     "name": "stdout",
     "output_type": "stream",
     "text": [
      "Epoch [0/500], Loss: -1.2711\n",
      "Epoch [100/500], Loss: -1.3434\n",
      "Epoch [200/500], Loss: -1.3428\n",
      "Epoch [300/500], Loss: -1.3833\n",
      "Epoch [400/500], Loss: -1.4378\n"
     ]
    }
   ],
   "source": [
    "# Train the model\n",
    "for epoch in range(epochs):\n",
    "    # Set initial hidden and cell states\n",
    "    hidden = model.init_hidden(bsz)\n",
    "    \n",
    "    for i in range(0, z.size(1) - seqlen, seqlen):\n",
    "        # Get mini-batch inputs and targets\n",
    "        inputs = z[:, i:i+seqlen, :]\n",
    "        targets = z[:, (i+1):(i+1)+seqlen, :]\n",
    "        \n",
    "        # Forward pass\n",
    "        hidden = detach(hidden)\n",
    "        (pi, mu, sigma), hidden = model(inputs, hidden)\n",
    "        loss = criterion(targets, pi, mu, sigma)\n",
    "        \n",
    "        # Backward and optimize\n",
    "        model.zero_grad()\n",
    "        loss.backward()\n",
    "        # clip_grad_norm_(model.parameters(), 0.5)\n",
    "        optimizer.step()\n",
    "        \n",
    "    if epoch % 100 == 0:\n",
    "        print ('Epoch [{}/{}], Loss: {:.4f}'\n",
    "               .format(epoch, epochs, loss.item()))"
   ]
  },
  {
   "cell_type": "code",
   "execution_count": 10,
   "metadata": {},
   "outputs": [],
   "source": [
    "# np.linalg.norm(z[0, 0, :].cpu().data - z1[0, :, :].cpu().data, axis=1)\n",
    "# np.linalg.norm(inputs.cpu().data - targets.cpu().data)"
   ]
  },
  {
   "cell_type": "markdown",
   "metadata": {},
   "source": [
    "### RNN prediction\n",
    "There are 5 modes of gaussians. Below is next true sample and 5 modes of predictions"
   ]
  },
  {
   "cell_type": "code",
   "execution_count": 22,
   "metadata": {},
   "outputs": [],
   "source": [
    "vae = VAE(image_channels=3).to(device)\n",
    "vae.load_state_dict(torch.load('vae.torch', map_location='cpu'))"
   ]
  },
  {
   "cell_type": "code",
   "execution_count": 68,
   "metadata": {},
   "outputs": [
    {
     "data": {
      "image/png": "[encoded data removed]",
      "text/plain": [
       "<IPython.core.display.Image object>"
      ]
     },
     "metadata": {
      "image/png": {
       "unconfined": true,
       "width": 1000
      }
     },
     "output_type": "display_data"
    }
   ],
   "source": [
    "zero = np.random.randint(z.size(0))\n",
    "one = np.random.randint(z.size(1))\n",
    "x = z[zero:zero+1, one:one+1, :]\n",
    "y = z[zero:zero+1, one+1:one+2, :]\n",
    "\n",
    "hidden = model.init_hidden(1)\n",
    "(pi, mu, sigma), _ = model(x, hidden)\n",
    "\n",
    "y_preds = [torch.normal(mu, sigma)[:, :, i, :] for i in range(n_gaussians)]\n",
    "\n",
    "compare_x = vae.decode(torch.cat([x, y] + y_preds))\n",
    "\n",
    "# compare_x = vae.decode(z_out)\n",
    "save_image(compare_x.data.cpu(), 'sample_image.png')\n",
    "display(Image('sample_image.png', width=1000, unconfined=True))"
   ]
  },
  {
   "cell_type": "code",
   "execution_count": null,
   "metadata": {},
   "outputs": [],
   "source": []
  }
 ],
 "metadata": {
  "kernelspec": {
   "display_name": "Python 3",
   "language": "python",
   "name": "python3"
  },
  "language_info": {
   "codemirror_mode": {
    "name": "ipython",
    "version": 3
   },
   "file_extension": ".py",
   "mimetype": "text/x-python",
   "name": "python",
   "nbconvert_exporter": "python",
   "pygments_lexer": "ipython3",
   "version": "3.6.4"
  }
 },
 "nbformat": 4,
 "nbformat_minor": 2
}
